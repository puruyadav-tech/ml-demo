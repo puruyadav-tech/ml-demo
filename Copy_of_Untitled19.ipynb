{
  "nbformat": 4,
  "nbformat_minor": 0,
  "metadata": {
    "colab": {
      "provenance": [],
      "authorship_tag": "ABX9TyO1pX6dlRGWgl7lDIJpV36A",
      "include_colab_link": true
    },
    "kernelspec": {
      "name": "python3",
      "display_name": "Python 3"
    },
    "language_info": {
      "name": "python"
    }
  },
  "cells": [
    {
      "cell_type": "markdown",
      "metadata": {
        "id": "view-in-github",
        "colab_type": "text"
      },
      "source": [
        "<a href=\"https://colab.research.google.com/github/puruyadav-tech/ml-demo/blob/main/Copy_of_Untitled19.ipynb\" target=\"_parent\"><img src=\"https://colab.research.google.com/assets/colab-badge.svg\" alt=\"Open In Colab\"/></a>"
      ]
    },
    {
      "cell_type": "code",
      "execution_count": 1,
      "metadata": {
        "colab": {
          "base_uri": "https://localhost:8080/",
          "height": 145
        },
        "id": "jYTlWKVlf3fl",
        "outputId": "e60961d5-0631-446c-9f95-0d01246671fc"
      },
      "outputs": [
        {
          "output_type": "stream",
          "name": "stdout",
          "text": [
            "\u001b[2K     \u001b[90m━━━━━━━━━━━━━━━━━━━━━━━━━━━━━━━━━━━━━━━\u001b[0m \u001b[32m44.3/44.3 kB\u001b[0m \u001b[31m499.6 kB/s\u001b[0m eta \u001b[36m0:00:00\u001b[0m\n",
            "\u001b[2K   \u001b[90m━━━━━━━━━━━━━━━━━━━━━━━━━━━━━━━━━━━━━━━━\u001b[0m \u001b[32m9.9/9.9 MB\u001b[0m \u001b[31m27.8 MB/s\u001b[0m eta \u001b[36m0:00:00\u001b[0m\n",
            "\u001b[2K   \u001b[90m━━━━━━━━━━━━━━━━━━━━━━━━━━━━━━━━━━━━━━━━\u001b[0m \u001b[32m6.9/6.9 MB\u001b[0m \u001b[31m25.6 MB/s\u001b[0m eta \u001b[36m0:00:00\u001b[0m\n",
            "\u001b[2K   \u001b[90m━━━━━━━━━━━━━━━━━━━━━━━━━━━━━━━━━━━━━━━━\u001b[0m \u001b[32m79.1/79.1 kB\u001b[0m \u001b[31m2.1 MB/s\u001b[0m eta \u001b[36m0:00:00\u001b[0m\n",
            "\u001b[?25h"
          ]
        },
        {
          "output_type": "display_data",
          "data": {
            "text/plain": [
              "<IPython.core.display.HTML object>"
            ],
            "text/html": [
              "\n",
              "     <input type=\"file\" id=\"files-cc66d130-41ca-4787-94e0-94b6d5b9aed0\" name=\"files[]\" multiple disabled\n",
              "        style=\"border:none\" />\n",
              "     <output id=\"result-cc66d130-41ca-4787-94e0-94b6d5b9aed0\">\n",
              "      Upload widget is only available when the cell has been executed in the\n",
              "      current browser session. Please rerun this cell to enable.\n",
              "      </output>\n",
              "      <script>// Copyright 2017 Google LLC\n",
              "//\n",
              "// Licensed under the Apache License, Version 2.0 (the \"License\");\n",
              "// you may not use this file except in compliance with the License.\n",
              "// You may obtain a copy of the License at\n",
              "//\n",
              "//      http://www.apache.org/licenses/LICENSE-2.0\n",
              "//\n",
              "// Unless required by applicable law or agreed to in writing, software\n",
              "// distributed under the License is distributed on an \"AS IS\" BASIS,\n",
              "// WITHOUT WARRANTIES OR CONDITIONS OF ANY KIND, either express or implied.\n",
              "// See the License for the specific language governing permissions and\n",
              "// limitations under the License.\n",
              "\n",
              "/**\n",
              " * @fileoverview Helpers for google.colab Python module.\n",
              " */\n",
              "(function(scope) {\n",
              "function span(text, styleAttributes = {}) {\n",
              "  const element = document.createElement('span');\n",
              "  element.textContent = text;\n",
              "  for (const key of Object.keys(styleAttributes)) {\n",
              "    element.style[key] = styleAttributes[key];\n",
              "  }\n",
              "  return element;\n",
              "}\n",
              "\n",
              "// Max number of bytes which will be uploaded at a time.\n",
              "const MAX_PAYLOAD_SIZE = 100 * 1024;\n",
              "\n",
              "function _uploadFiles(inputId, outputId) {\n",
              "  const steps = uploadFilesStep(inputId, outputId);\n",
              "  const outputElement = document.getElementById(outputId);\n",
              "  // Cache steps on the outputElement to make it available for the next call\n",
              "  // to uploadFilesContinue from Python.\n",
              "  outputElement.steps = steps;\n",
              "\n",
              "  return _uploadFilesContinue(outputId);\n",
              "}\n",
              "\n",
              "// This is roughly an async generator (not supported in the browser yet),\n",
              "// where there are multiple asynchronous steps and the Python side is going\n",
              "// to poll for completion of each step.\n",
              "// This uses a Promise to block the python side on completion of each step,\n",
              "// then passes the result of the previous step as the input to the next step.\n",
              "function _uploadFilesContinue(outputId) {\n",
              "  const outputElement = document.getElementById(outputId);\n",
              "  const steps = outputElement.steps;\n",
              "\n",
              "  const next = steps.next(outputElement.lastPromiseValue);\n",
              "  return Promise.resolve(next.value.promise).then((value) => {\n",
              "    // Cache the last promise value to make it available to the next\n",
              "    // step of the generator.\n",
              "    outputElement.lastPromiseValue = value;\n",
              "    return next.value.response;\n",
              "  });\n",
              "}\n",
              "\n",
              "/**\n",
              " * Generator function which is called between each async step of the upload\n",
              " * process.\n",
              " * @param {string} inputId Element ID of the input file picker element.\n",
              " * @param {string} outputId Element ID of the output display.\n",
              " * @return {!Iterable<!Object>} Iterable of next steps.\n",
              " */\n",
              "function* uploadFilesStep(inputId, outputId) {\n",
              "  const inputElement = document.getElementById(inputId);\n",
              "  inputElement.disabled = false;\n",
              "\n",
              "  const outputElement = document.getElementById(outputId);\n",
              "  outputElement.innerHTML = '';\n",
              "\n",
              "  const pickedPromise = new Promise((resolve) => {\n",
              "    inputElement.addEventListener('change', (e) => {\n",
              "      resolve(e.target.files);\n",
              "    });\n",
              "  });\n",
              "\n",
              "  const cancel = document.createElement('button');\n",
              "  inputElement.parentElement.appendChild(cancel);\n",
              "  cancel.textContent = 'Cancel upload';\n",
              "  const cancelPromise = new Promise((resolve) => {\n",
              "    cancel.onclick = () => {\n",
              "      resolve(null);\n",
              "    };\n",
              "  });\n",
              "\n",
              "  // Wait for the user to pick the files.\n",
              "  const files = yield {\n",
              "    promise: Promise.race([pickedPromise, cancelPromise]),\n",
              "    response: {\n",
              "      action: 'starting',\n",
              "    }\n",
              "  };\n",
              "\n",
              "  cancel.remove();\n",
              "\n",
              "  // Disable the input element since further picks are not allowed.\n",
              "  inputElement.disabled = true;\n",
              "\n",
              "  if (!files) {\n",
              "    return {\n",
              "      response: {\n",
              "        action: 'complete',\n",
              "      }\n",
              "    };\n",
              "  }\n",
              "\n",
              "  for (const file of files) {\n",
              "    const li = document.createElement('li');\n",
              "    li.append(span(file.name, {fontWeight: 'bold'}));\n",
              "    li.append(span(\n",
              "        `(${file.type || 'n/a'}) - ${file.size} bytes, ` +\n",
              "        `last modified: ${\n",
              "            file.lastModifiedDate ? file.lastModifiedDate.toLocaleDateString() :\n",
              "                                    'n/a'} - `));\n",
              "    const percent = span('0% done');\n",
              "    li.appendChild(percent);\n",
              "\n",
              "    outputElement.appendChild(li);\n",
              "\n",
              "    const fileDataPromise = new Promise((resolve) => {\n",
              "      const reader = new FileReader();\n",
              "      reader.onload = (e) => {\n",
              "        resolve(e.target.result);\n",
              "      };\n",
              "      reader.readAsArrayBuffer(file);\n",
              "    });\n",
              "    // Wait for the data to be ready.\n",
              "    let fileData = yield {\n",
              "      promise: fileDataPromise,\n",
              "      response: {\n",
              "        action: 'continue',\n",
              "      }\n",
              "    };\n",
              "\n",
              "    // Use a chunked sending to avoid message size limits. See b/62115660.\n",
              "    let position = 0;\n",
              "    do {\n",
              "      const length = Math.min(fileData.byteLength - position, MAX_PAYLOAD_SIZE);\n",
              "      const chunk = new Uint8Array(fileData, position, length);\n",
              "      position += length;\n",
              "\n",
              "      const base64 = btoa(String.fromCharCode.apply(null, chunk));\n",
              "      yield {\n",
              "        response: {\n",
              "          action: 'append',\n",
              "          file: file.name,\n",
              "          data: base64,\n",
              "        },\n",
              "      };\n",
              "\n",
              "      let percentDone = fileData.byteLength === 0 ?\n",
              "          100 :\n",
              "          Math.round((position / fileData.byteLength) * 100);\n",
              "      percent.textContent = `${percentDone}% done`;\n",
              "\n",
              "    } while (position < fileData.byteLength);\n",
              "  }\n",
              "\n",
              "  // All done.\n",
              "  yield {\n",
              "    response: {\n",
              "      action: 'complete',\n",
              "    }\n",
              "  };\n",
              "}\n",
              "\n",
              "scope.google = scope.google || {};\n",
              "scope.google.colab = scope.google.colab || {};\n",
              "scope.google.colab._files = {\n",
              "  _uploadFiles,\n",
              "  _uploadFilesContinue,\n",
              "};\n",
              "})(self);\n",
              "</script> "
            ]
          },
          "metadata": {}
        },
        {
          "output_type": "stream",
          "name": "stdout",
          "text": [
            "Saving mdl.pkl to mdl.pkl\n"
          ]
        }
      ],
      "source": [
       
        "!pip install streamlit pyngrok --quiet\n",
        "\n",
      
        "from google.colab import files\n",
        "uploaded = files.upload()\n"
      ]
    },
    {
      "cell_type": "code",
      "source": [
        "%%writefile app.py\n",
        "import streamlit as st\n",
        "import pickle\n",
        "import pandas as pd\n",
        "from PIL import Image\n",
        "import os\n",
        "\n",
        
        "pipe = pickle.load(open('mdl.pkl', 'rb'))\n",
        "\n",
      
        "teams = [\n",
        "    'Sunrisers Hyderabad', 'Mumbai Indians', 'Royal Challengers Bangalore',\n",
        "    'Kolkata Knight Riders', 'Kings XI Punjab', 'Chennai Super Kings',\n",
        "    'Rajasthan Royals', 'Delhi Capitals'\n",
        "]\n",
        "\n",
        "cities = [\n",
        "    'Hyderabad', 'Bangalore', 'Mumbai', 'Indore', 'Kolkata', 'Delhi',\n",
        "    'Chandigarh', 'Jaipur', 'Chennai', 'Cape Town', 'Port Elizabeth',\n",
        "    'Durban', 'Centurion', 'East London', 'Johannesburg', 'Kimberley',\n",
        "    'Bloemfontein', 'Ahmedabad', 'Cuttack', 'Nagpur', 'Dharamsala',\n",
        "    'Visakhapatnam', 'Pune', 'Raipur', 'Ranchi', 'Abu Dhabi',\n",
        "    'Sharjah', 'Mohali', 'Bengaluru'\n",
        "]\n",
        "\n",
        
        "logo_urls = {\n",
        "    \"Chennai Super Kings\": \"https://upload.wikimedia.org/wikipedia/en/2/2d/Chennai_Super_Kings_Logo.png\",\n",
        "    \"Delhi Capitals\": \"https://upload.wikimedia.org/wikipedia/en/d/dc/Delhi_Capitals.svg\",\n",
        "    \"Kings XI Punjab\": \"https://upload.wikimedia.org/wikipedia/en/d/d4/Kings_XI_Punjab_Logo.svg\",\n",
        "    \"Kolkata Knight Riders\": \"https://upload.wikimedia.org/wikipedia/en/4/4f/Kolkata_Knight_Riders_Logo.svg\",\n",
        "    \"Mumbai Indians\": \"https://upload.wikimedia.org/wikipedia/en/2/25/Mumbai_Indians_Logo.svg\",\n",
        "    \"Rajasthan Royals\": \"https://upload.wikimedia.org/wikipedia/en/6/60/Rajasthan_Royals_Logo.svg\",\n",
        "    \"Royal Challengers Bangalore\": \"https://upload.wikimedia.org/wikipedia/en/4/4c/Royal_Challengers_Bangalore_Logo.svg\",\n",
        "    \"Sunrisers Hyderabad\": \"https://upload.wikimedia.org/wikipedia/en/8/81/Sunrisers_Hyderabad_Logo.svg\"\n",
        "}\n",
        "\n",
        
        "st.title('🏏 IPL Win Predictor')\n",
        "\n",
        "col1, col2 = st.columns(2)\n",
        "with col1:\n",
        "    batting_team = st.selectbox('Select Batting Team', sorted(teams))\n",
        "with col2:\n",
        "    bowling_team = st.selectbox('Select Bowling Team', sorted(teams))\n",
        "\n",
        
        "if batting_team in logo_urls:\n",
        "    st.image(logo_urls[batting_team], width=100, caption=\"Batting Team\")\n",
        "if bowling_team in logo_urls:\n",
        "    st.image(logo_urls[bowling_team], width=100, caption=\"Bowling Team\")\n",
        "\n",
        "selected_city = st.selectbox('Select Host City', sorted(cities))\n",
        "target = st.number_input('Target Score', step=1)\n",
        "\n",
        "col3, col4, col5 = st.columns(3)\n",
        "with col3:\n",
        "    score = st.number_input('Current Score', step=1)\n",
        "with col4:\n",
        "    overs = st.number_input('Overs Completed', step=0.1)\n",
        "with col5:\n",
        "    wickets = st.number_input('Wickets Fallen', step=1)\n",
        "\n",
        "if st.button('Predict Probability'):\n",
        "    try:\n",
        "        runs_left = target - score\n",
        "        balls_left = 120 - int(overs * 6)\n",
        "        wickets_remaining = 10 - wickets\n",
        "        crr = score / overs if overs > 0 else 0\n",
        "        rrr = (runs_left * 6) / balls_left if balls_left > 0 else 0\n",
        "\n",
        "        input_df = pd.DataFrame({\n",
        "            'batting_team': [batting_team],\n",
        "            'bowling_team': [bowling_team],\n",
        "            'city': [selected_city],\n",
        "            'runs_left': [runs_left],\n",
        "            'balls_left': [balls_left],\n",
        "            'wickets': [wickets_remaining],\n",
        "            'total_runs_x': [target],\n",
        "            'crr': [crr],\n",
        "            'rrr': [rrr]\n",
        "        })\n",
        "\n",
        "        result = pipe.predict_proba(input_df)\n",
        "        loss = result[0][0]\n",
        "        win = result[0][1]\n",
        "\n",
        "        st.subheader(f\"✅ {batting_team} - {round(win * 100)}% chance to win\")\n",
        "        st.subheader(f\"❌ {bowling_team} - {round(loss * 100)}% chance to win\")\n",
        "\n",
        "    except Exception as e:\n",
        "        st.error(f\"⚠️ Error: {e}\")\n"
      ],
      "metadata": {
        "colab": {
          "base_uri": "https://localhost:8080/"
        },
        "id": "HQWl5Rr2gbsW",
        "outputId": "20f3a1d6-4c80-486f-f70d-87dc3d6c357f"
      },
      "execution_count": 4,
      "outputs": [
        {
          "output_type": "stream",
          "name": "stdout",
          "text": [
            "Overwriting app.py\n"
          ]
        }
      ]
    },
    {
      "cell_type": "code",
      "source": [
        "!streamlit run app.py &>/content/log.txt &\n"
      ],
      "metadata": {
        "id": "ltJ0wwKnFKqj"
      },
      "execution_count": 5,
      "outputs": []
    },
    {
      "cell_type": "code",
      "source": [
        "from pyngrok import ngrok\n",
        "\n",
        "# Optional: Only run this once\n",
        "!ngrok config add-authtoken YOUR_AUTHTOKEN_HERE\n",
        "\n",
        "# Start ngrok tunnel\n",
        "public_url = ngrok.connect(8501)\n",
        "print(f\"🌐 Your app is live at: {public_url}\")\n"
      ],
      "metadata": {
        "colab": {
          "base_uri": "https://localhost:8080/"
        },
        "id": "f4izHvTYFNS2",
        "outputId": "1aa293eb-d850-4e5b-8ca4-ac278c89bcaf"
      },
      "execution_count": 6,
      "outputs": [
        {
          "output_type": "stream",
          "name": "stdout",
          "text": [
            "Authtoken saved to configuration file: /root/.config/ngrok/ngrok.yml\n",
            "🌐 Your app is live at: NgrokTunnel: \"https://8477-35-234-2-53.ngrok-free.app\" -> \"http://localhost:8501\"\n"
          ]
        }
      ]
    }
  ]
}
